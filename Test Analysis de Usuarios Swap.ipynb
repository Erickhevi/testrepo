{
    "cells": [
        {
            "metadata": {},
            "cell_type": "markdown",
            "source": "# Test de  Datos Swap - Primeros Usuarios de Tarjeta Swap\nSub\u00ed datos de la lista de los primeros usuarios de Tarjeta Swap"
        },
        {
            "metadata": {},
            "cell_type": "code",
            "source": "\nimport types\nimport pandas as pd\nfrom botocore.client import Config\nimport ibm_boto3\n\ndef __iter__(self): return 0\n\n# @hidden_cell\n# The following code accesses a file in your IBM Cloud Object Storage. It includes your credentials.\n# You might want to remove those credentials before you share the notebook.\nclient_b78b483a682a4d9cb8d1e006470d9581 = ibm_boto3.client(service_name='s3',\n    ibm_api_key_id='itoS1LP310fdgHeLFsrq51vL4LCF6ZPws90OV8OsiM3a',\n    ibm_auth_endpoint=\"https://iam.cloud.ibm.com/oidc/token\",\n    config=Config(signature_version='oauth'),\n    endpoint_url='https://s3-api.us-geo.objectstorage.service.networklayer.com')\n\nbody = client_b78b483a682a4d9cb8d1e006470d9581.get_object(Bucket='jupyternotebooks-donotdelete-pr-qumhtnm6paxhzk',Key='PrimerosUsuariosDeTarjetas.csv')['Body']\n# add missing __iter__ method, so pandas accepts body as file-like object\nif not hasattr(body, \"__iter__\"): body.__iter__ = types.MethodType( __iter__, body )\n\ndf_data_1 = pd.read_csv(body)\ndf_data_1.head()\n",
            "execution_count": 3,
            "outputs": [
                {
                    "output_type": "execute_result",
                    "execution_count": 3,
                    "data": {
                        "text/plain": "          _id      firstname     lastname                          email\n0  AnoSIeH1Ef          David   Bustamante          dbv.blimpin@gmail.com\n1  T1vk9JAE52   Jos\u00e9 Gustavo        Heras  gustavoherasvelasco@gmail.com\n2  rPraWTlDhV       Ayurveda       Urbana        info@ayurvedaurbana.com\n3  4JQZTi6ZbO  Daniel Andres  Santamarina              santa13@gmail.com\n4  J0aU3WOUlJ         Brenda      Sanchez           b.eliza.sj@gmail.com",
                        "text/html": "<div>\n<style scoped>\n    .dataframe tbody tr th:only-of-type {\n        vertical-align: middle;\n    }\n\n    .dataframe tbody tr th {\n        vertical-align: top;\n    }\n\n    .dataframe thead th {\n        text-align: right;\n    }\n</style>\n<table border=\"1\" class=\"dataframe\">\n  <thead>\n    <tr style=\"text-align: right;\">\n      <th></th>\n      <th>_id</th>\n      <th>firstname</th>\n      <th>lastname</th>\n      <th>email</th>\n    </tr>\n  </thead>\n  <tbody>\n    <tr>\n      <th>0</th>\n      <td>AnoSIeH1Ef</td>\n      <td>David</td>\n      <td>Bustamante</td>\n      <td>dbv.blimpin@gmail.com</td>\n    </tr>\n    <tr>\n      <th>1</th>\n      <td>T1vk9JAE52</td>\n      <td>Jos\u00e9 Gustavo</td>\n      <td>Heras</td>\n      <td>gustavoherasvelasco@gmail.com</td>\n    </tr>\n    <tr>\n      <th>2</th>\n      <td>rPraWTlDhV</td>\n      <td>Ayurveda</td>\n      <td>Urbana</td>\n      <td>info@ayurvedaurbana.com</td>\n    </tr>\n    <tr>\n      <th>3</th>\n      <td>4JQZTi6ZbO</td>\n      <td>Daniel Andres</td>\n      <td>Santamarina</td>\n      <td>santa13@gmail.com</td>\n    </tr>\n    <tr>\n      <th>4</th>\n      <td>J0aU3WOUlJ</td>\n      <td>Brenda</td>\n      <td>Sanchez</td>\n      <td>b.eliza.sj@gmail.com</td>\n    </tr>\n  </tbody>\n</table>\n</div>"
                    },
                    "metadata": {}
                }
            ]
        },
        {
            "metadata": {},
            "cell_type": "code",
            "source": "",
            "execution_count": null,
            "outputs": []
        }
    ],
    "metadata": {
        "kernelspec": {
            "name": "python3",
            "display_name": "Python 3.6",
            "language": "python"
        },
        "language_info": {
            "name": "python",
            "version": "3.6.9",
            "mimetype": "text/x-python",
            "codemirror_mode": {
                "name": "ipython",
                "version": 3
            },
            "pygments_lexer": "ipython3",
            "nbconvert_exporter": "python",
            "file_extension": ".py"
        }
    },
    "nbformat": 4,
    "nbformat_minor": 1
}